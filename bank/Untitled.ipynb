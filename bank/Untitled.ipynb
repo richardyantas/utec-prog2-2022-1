{
 "cells": [
  {
   "cell_type": "code",
   "execution_count": 1,
   "id": "002b38b4-3af6-4633-9cb2-a6086c40e2df",
   "metadata": {},
   "outputs": [
    {
     "data": {
      "text/plain": [
       "@0x7fff33f79da0"
      ]
     },
     "execution_count": 1,
     "metadata": {},
     "output_type": "execute_result"
    }
   ],
   "source": [
    "#include<iostream>\n",
    "using namespace std;\n",
    "\n",
    "int *a = new int[2];\n",
    "\n",
    "a"
   ]
  },
  {
   "cell_type": "code",
   "execution_count": 21,
   "id": "f99a761f-56c8-4fa6-a775-5acae73b674b",
   "metadata": {
    "tags": []
   },
   "outputs": [
    {
     "data": {
      "text/plain": [
       "-1"
      ]
     },
     "execution_count": 21,
     "metadata": {},
     "output_type": "execute_result"
    }
   ],
   "source": [
    "a[0] = 3;\n",
    "a[1] = -1;\n",
    "\n",
    "// int arr[100]: // array"
   ]
  },
  {
   "cell_type": "code",
   "execution_count": 3,
   "id": "2015c7c2-105f-4e1f-9e6b-a5bee0e749fb",
   "metadata": {},
   "outputs": [
    {
     "data": {
      "text/plain": [
       "3"
      ]
     },
     "execution_count": 3,
     "metadata": {},
     "output_type": "execute_result"
    }
   ],
   "source": [
    "a[0]"
   ]
  },
  {
   "cell_type": "code",
   "execution_count": 4,
   "id": "7e835beb-082c-4939-aa87-4be1621bb505",
   "metadata": {},
   "outputs": [],
   "source": [
    "delete[] a;"
   ]
  },
  {
   "cell_type": "code",
   "execution_count": 5,
   "id": "2b2d6096-1523-46e5-9e1d-b6137dd5162b",
   "metadata": {},
   "outputs": [
    {
     "data": {
      "text/plain": [
       "-979039768"
      ]
     },
     "execution_count": 5,
     "metadata": {},
     "output_type": "execute_result"
    }
   ],
   "source": [
    "a[0]"
   ]
  },
  {
   "cell_type": "code",
   "execution_count": 6,
   "id": "fc4b4814-5cad-4fd5-a4b6-ee9dcfdc3045",
   "metadata": {},
   "outputs": [],
   "source": [
    "#include<list>\n",
    "\n"
   ]
  },
  {
   "cell_type": "code",
   "execution_count": 7,
   "id": "eb72307c-9e79-41c9-9a8f-9664536b9f91",
   "metadata": {},
   "outputs": [],
   "source": [
    "list<int> mlist;"
   ]
  },
  {
   "cell_type": "code",
   "execution_count": 8,
   "id": "51305a01-ae0b-4afc-a644-b167369d5288",
   "metadata": {},
   "outputs": [],
   "source": [
    "mlist.push_front(7);"
   ]
  },
  {
   "cell_type": "code",
   "execution_count": 9,
   "id": "ed95f75b-5f43-4e4d-ad76-f7772ac79c79",
   "metadata": {},
   "outputs": [
    {
     "data": {
      "text/plain": [
       "{ 7 }"
      ]
     },
     "execution_count": 9,
     "metadata": {},
     "output_type": "execute_result"
    }
   ],
   "source": [
    "mlist"
   ]
  },
  {
   "cell_type": "code",
   "execution_count": 10,
   "id": "3014ebf8-520f-4b34-8e2e-fffe491f14cc",
   "metadata": {},
   "outputs": [],
   "source": [
    "mlist.push_front(4);"
   ]
  },
  {
   "cell_type": "code",
   "execution_count": 11,
   "id": "e4f4e9e4-efe3-4ff6-9a9a-7bf345887c9d",
   "metadata": {},
   "outputs": [
    {
     "data": {
      "text/plain": [
       "{ 4, 7 }"
      ]
     },
     "execution_count": 11,
     "metadata": {},
     "output_type": "execute_result"
    }
   ],
   "source": [
    "mlist"
   ]
  },
  {
   "cell_type": "code",
   "execution_count": 17,
   "id": "9b86f0fa-70bb-4799-a9fe-21270d592571",
   "metadata": {},
   "outputs": [],
   "source": [
    "\n",
    "\n",
    "// int data[10]={2,1,1,3,4,5,6,7,1,10};\n",
    "int *data = new [100000];\n",
    "int aux;\n",
    "for(int i=0;i<10000;i++){\n",
    "    cin >> aux;\n",
    "    data[i] = aux;\n",
    "}\n",
    "\n",
    "delete data;\n",
    "\n",
    "// calculo de reportes semanals \n",
    "int *registros = new [20000]\n",
    "// \n",
    "delete registros;\n",
    "\n",
    "\n",
    "\n",
    "int sum=0;"
   ]
  },
  {
   "cell_type": "code",
   "execution_count": 20,
   "id": "8f75feaa-e7a0-4865-96c6-524c6447abc7",
   "metadata": {},
   "outputs": [
    {
     "name": "stderr",
     "output_type": "stream",
     "text": [
      "\u001b[1minput_line_35:2:24: \u001b[0m\u001b[0;1;31merror: \u001b[0m\u001b[1muse of undeclared identifier 'sum'\u001b[0m\n",
      " for(int i=0;i<10;i++){sum+=data[i];}\n",
      "\u001b[0;1;32m                       ^\n",
      "\u001b[0m\u001b[1minput_line_35:2:29: \u001b[0m\u001b[0;1;31merror: \u001b[0m\u001b[1mreference to 'data' is ambiguous\u001b[0m\n",
      " for(int i=0;i<10;i++){sum+=data[i];}\n",
      "\u001b[0;1;32m                            ^\n",
      "\u001b[0m\u001b[1minput_line_32:2:6: \u001b[0m\u001b[0;1;30mnote: \u001b[0mcandidate found by name lookup is '__cling_N523::data'\u001b[0m\n",
      " int data[10]={2,1,1,3,4,5,6,7,1,10};\n",
      "\u001b[0;1;32m     ^\n",
      "\u001b[0m\u001b[1m/usr/lib/gcc/x86_64-linux-gnu/7.5.0/../../../../include/c++/7.5.0/bits/range_access.h:318:5: \u001b[0m\u001b[0;1;30mnote: \u001b[0mcandidate found by name lookup is 'std::data'\u001b[0m\n",
      "    data(initializer_list<_Tp> __il) noexcept\n",
      "\u001b[0;1;32m    ^\n",
      "\u001b[0m\u001b[1m/usr/lib/gcc/x86_64-linux-gnu/7.5.0/../../../../include/c++/7.5.0/bits/range_access.h:289:5: \u001b[0m\u001b[0;1;30mnote: \u001b[0mcandidate found by name lookup is 'std::data'\u001b[0m\n",
      "    data(_Container& __cont) noexcept(noexcept(__cont.data()))\n",
      "\u001b[0;1;32m    ^\n",
      "\u001b[0m\u001b[1m/usr/lib/gcc/x86_64-linux-gnu/7.5.0/../../../../include/c++/7.5.0/bits/range_access.h:299:5: \u001b[0m\u001b[0;1;30mnote: \u001b[0mcandidate found by name lookup is 'std::data'\u001b[0m\n",
      "    data(const _Container& __cont) noexcept(noexcept(__cont.data()))\n",
      "\u001b[0;1;32m    ^\n",
      "\u001b[0m\u001b[1m/usr/lib/gcc/x86_64-linux-gnu/7.5.0/../../../../include/c++/7.5.0/bits/range_access.h:309:5: \u001b[0m\u001b[0;1;30mnote: \u001b[0mcandidate found by name lookup is 'std::data'\u001b[0m\n",
      "    data(_Tp (&__array)[_Nm]) noexcept\n",
      "\u001b[0;1;32m    ^\n",
      "\u001b[0m"
     ]
    },
    {
     "ename": "Interpreter Error",
     "evalue": "",
     "output_type": "error",
     "traceback": [
      "Interpreter Error: "
     ]
    }
   ],
   "source": []
  }
 ],
 "metadata": {
  "kernelspec": {
   "display_name": "C++17",
   "language": "C++17",
   "name": "xcpp17"
  },
  "language_info": {
   "codemirror_mode": "text/x-c++src",
   "file_extension": ".cpp",
   "mimetype": "text/x-c++src",
   "name": "c++",
   "version": "17"
  }
 },
 "nbformat": 4,
 "nbformat_minor": 5
}
