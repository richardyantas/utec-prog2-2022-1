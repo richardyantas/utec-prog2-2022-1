{
 "cells": [
  {
   "cell_type": "markdown",
   "id": "e3d82316-da92-4f66-9f42-4ce6c1d00fd7",
   "metadata": {},
   "source": [
    "En el caso del node "
   ]
  },
  {
   "cell_type": "code",
   "execution_count": 4,
   "id": "a6ec956d-fe3a-415e-8b73-cb5121d2eede",
   "metadata": {},
   "outputs": [],
   "source": [
    "\n",
    "\n",
    "class Node{\n",
    "    int x,y;\n",
    "public:\n",
    "    Node(){};\n",
    "    \n",
    "};"
   ]
  },
  {
   "cell_type": "code",
   "execution_count": 5,
   "id": "dbbc6d37-7a39-4386-b940-8e12a3cfbf1a",
   "metadata": {},
   "outputs": [],
   "source": [
    "Node n;"
   ]
  },
  {
   "cell_type": "markdown",
   "id": "80c069c0-4792-4087-9d8a-21165ebdaf60",
   "metadata": {},
   "source": [
    "PC3 - Questions"
   ]
  },
  {
   "cell_type": "code",
   "execution_count": null,
   "id": "f7b49aab-10f6-4a80-92a3-7269657d2768",
   "metadata": {},
   "outputs": [],
   "source": []
  }
 ],
 "metadata": {
  "kernelspec": {
   "display_name": "C++17",
   "language": "C++17",
   "name": "xcpp17"
  },
  "language_info": {
   "codemirror_mode": "text/x-c++src",
   "file_extension": ".cpp",
   "mimetype": "text/x-c++src",
   "name": "c++",
   "version": "17"
  }
 },
 "nbformat": 4,
 "nbformat_minor": 5
}
