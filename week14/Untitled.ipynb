{
 "cells": [
  {
   "cell_type": "markdown",
   "id": "547f5281-64ea-4f0e-9054-d76d70d0ebd4",
   "metadata": {},
   "source": [
    "1.- Polymorphism\n"
   ]
  },
  {
   "cell_type": "code",
   "execution_count": 2,
   "id": "ad9cfc0f-1cca-4ec8-8a19-a30c8c71da86",
   "metadata": {},
   "outputs": [],
   "source": [
    "#include<iostream>\n",
    "using namespace std;"
   ]
  },
  {
   "cell_type": "code",
   "execution_count": 10,
   "id": "406cc550-99da-48ef-b680-0ca892a42490",
   "metadata": {},
   "outputs": [
    {
     "data": {
      "text/plain": [
       "2"
      ]
     },
     "execution_count": 10,
     "metadata": {},
     "output_type": "execute_result"
    }
   ],
   "source": [
    "foo(1)"
   ]
  }
 ],
 "metadata": {
  "kernelspec": {
   "display_name": "C++11",
   "language": "C++11",
   "name": "xcpp11"
  },
  "language_info": {
   "codemirror_mode": "text/x-c++src",
   "file_extension": ".cpp",
   "mimetype": "text/x-c++src",
   "name": "c++",
   "version": "11"
  }
 },
 "nbformat": 4,
 "nbformat_minor": 5
}
