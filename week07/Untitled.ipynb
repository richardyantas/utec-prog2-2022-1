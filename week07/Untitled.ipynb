{
 "cells": [
  {
   "cell_type": "code",
   "execution_count": 1,
   "id": "706843ca-1592-4486-89a5-d0f103449a21",
   "metadata": {},
   "outputs": [],
   "source": [
    "#include<vector>\n",
    "using namespace std;\n"
   ]
  },
  {
   "cell_type": "code",
   "execution_count": 9,
   "id": "5d8ae66d-7616-452a-ad18-0fa5d004b277",
   "metadata": {},
   "outputs": [
    {
     "data": {
      "text/plain": [
       "{ -1, -1, -1, -1, -1 }"
      ]
     },
     "execution_count": 9,
     "metadata": {},
     "output_type": "execute_result"
    }
   ],
   "source": [
    "vector<int> f;//f(5,-1);\n",
    "f.assign(5,-1);\n",
    "f"
   ]
  }
 ],
 "metadata": {
  "kernelspec": {
   "display_name": "C++17",
   "language": "C++17",
   "name": "xcpp17"
  },
  "language_info": {
   "codemirror_mode": "text/x-c++src",
   "file_extension": ".cpp",
   "mimetype": "text/x-c++src",
   "name": "c++",
   "version": "17"
  }
 },
 "nbformat": 4,
 "nbformat_minor": 5
}
