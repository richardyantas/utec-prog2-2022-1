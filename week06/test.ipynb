{
 "cells": [
  {
   "cell_type": "code",
   "execution_count": 1,
   "id": "f3670b39-e499-4395-97f2-98c5d7dc254e",
   "metadata": {},
   "outputs": [],
   "source": [
    "#include<iostream>\n",
    "#include<cstdio>\n",
    "#include<cstdlib>\n",
    "using namespace std;\n"
   ]
  },
  {
   "cell_type": "code",
   "execution_count": 2,
   "id": "ca944cc1-bdd4-45be-93d6-ba5b68f72551",
   "metadata": {},
   "outputs": [],
   "source": [
    "int A[100];"
   ]
  },
  {
   "cell_type": "code",
   "execution_count": 10,
   "id": "1f497fb5-0a65-444e-8a8d-c0486fd1d973",
   "metadata": {
    "tags": []
   },
   "outputs": [
    {
     "data": {
      "text/plain": [
       "{ -1, -1, -1, -1, -1, -1, -1, -1, -1, -1, -1, -1, -1, -1, -1, -1, -1, -1, -1, -1, -1, -1, -1, -1, -1, -1, -1, -1, -1, -1, -1, -1, -1, -1, -1, -1, -1, -1, -1, -1, -1, -1, -1, -1, -1, -1, -1, -1, -1, -1, -1, -1, -1, -1, -1, -1, -1, -1, -1, -1, -1, -1, -1, -1, -1, -1, -1, -1, -1, -1, -1, -1, -1, -1, -1, -1, -1, -1, -1, -1, -1, -1, -1, -1, -1, -1, -1, -1, -1, -1, -1, -1, -1, -1, -1, -1, -1, -1, -1, -1 }"
      ]
     },
     "execution_count": 10,
     "metadata": {},
     "output_type": "execute_result"
    }
   ],
   "source": [
    "memset(A,-1,sizeof A);\n",
    "//sizeof(A)\n",
    "A"
   ]
  }
 ],
 "metadata": {
  "kernelspec": {
   "display_name": "C++17",
   "language": "C++17",
   "name": "xcpp17"
  },
  "language_info": {
   "codemirror_mode": "text/x-c++src",
   "file_extension": ".cpp",
   "mimetype": "text/x-c++src",
   "name": "c++",
   "version": "17"
  }
 },
 "nbformat": 4,
 "nbformat_minor": 5
}
